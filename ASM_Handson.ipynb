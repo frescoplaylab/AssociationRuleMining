{
 "cells": [
  {
   "cell_type": "code",
   "execution_count": null,
   "metadata": {},
   "outputs": [],
   "source": [
    "# Welcome to the first Hands On association rule mining. In this exercise , you will try out ASM regression using mlxtend library that you have learnt in the course. We have created this Python Notebook with all the necessary things needed for completing this exercise. \n",
    "\n",
    "#You have to write your code in between the are mentioned\n",
    "\n",
    "### Start Code\n",
    "# Your Code here\n",
    "### End Code\n",
    " \n",
    "#To run the code in each cell click on the cell and press **shift + enter** \n"
   ]
  },
  {
   "cell_type": "code",
   "execution_count": 2,
   "metadata": {},
   "outputs": [],
   "source": [
    "# Run the below cell to load the data on which you will be performing ASM.\n",
    "# The data has the records of items purcahed where each element of 'Data' refers to a single transaction\n"
   ]
  },
  {
   "cell_type": "code",
   "execution_count": 3,
   "metadata": {},
   "outputs": [],
   "source": [
    "Data = [['Power Bank', 'Screen Guard' , 'Travel Charger'],\n",
    " ['Screen Guard', 'Bluetooth Headset', 'Mobile Cover'],\n",
    " ['Screen Guard','Arm Band','Mobile Cover'],\n",
    " ['Power Bank','Screen Guard','Leather Pouch'],\n",
    " ['Bluetooth Headset', 'Power Bank' , 'Mobile Cover']]\n",
    "\n"
   ]
  },
  {
   "cell_type": "code",
   "execution_count": 4,
   "metadata": {},
   "outputs": [],
   "source": [
    "# Run the below cell to import necessary packages to perform Association Rule Mining"
   ]
  },
  {
   "cell_type": "code",
   "execution_count": null,
   "metadata": {},
   "outputs": [],
   "source": [
    "from mlxtend.frequent_patterns import apriori\n",
    "from mlxtend.frequent_patterns import association_rules\n",
    "from mlxtend.preprocessing import TransactionEncoder\n",
    "import pandas as pd"
   ]
  },
  {
   "cell_type": "code",
   "execution_count": null,
   "metadata": {},
   "outputs": [],
   "source": [
    "# - initalize TransactionEncoder as te\n",
    "# - fit and transform the transaction data('Data') to perform Transaction Encoding and store it in te_ary\n",
    "# - create a dataframe of Transaction Encoded Data\n",
    "# - Find all frequent item sets with minimum support 0.1 using apriori function  \n",
    "# **Follow the code snippet in the course on implementing the above steps**\n"
   ]
  },
  {
   "cell_type": "code",
   "execution_count": null,
   "metadata": {},
   "outputs": [],
   "source": [
    "###Start code here\n",
    "\n",
    "te = \n",
    "te_ary = \n",
    "dataFrame =\n",
    "frequent_itemsets = \n",
    "\n",
    "\n",
    "\n",
    "###End code(approx 4 lines)\n"
   ]
  },
  {
   "cell_type": "code",
   "execution_count": null,
   "metadata": {},
   "outputs": [],
   "source": [
    "# - generate association rule for all the itemsets(frequent_itemsets) with minimum confidence 0.7"
   ]
  },
  {
   "cell_type": "code",
   "execution_count": null,
   "metadata": {},
   "outputs": [],
   "source": [
    "from mlxtend.frequent_patterns import association_rules\n",
    "###Start code here\n",
    "association_rule = \n",
    "print(association_rule)   \n",
    "###End code(approx 2 lines)\n"
   ]
  },
  {
   "cell_type": "code",
   "execution_count": null,
   "metadata": {},
   "outputs": [],
   "source": [
    "# - What is the consequent support value for Leather Pouch -> Screen Guard ?\n",
    "# - What is the lift value for (Arm Band, Mobile Cover)->(Screen Guard) ?\n",
    "# - In how many scenarios do you see 2 items (dualtons) in the antecedent set ?\n",
    "# - assign the above abservations to respective variable in the cell below\n"
   ]
  },
  {
   "cell_type": "code",
   "execution_count": null,
   "metadata": {},
   "outputs": [],
   "source": [
    "###Start code here\n",
    "support = \n",
    "lift = \n",
    "dualtons = \n",
    "###End code(approx 3 lines)\n",
    "with open(\"output.txt\", \"w\") as text_file:\n",
    "    text_file.write(\"support= %f\\n\" % support)\n",
    "    text_file.write(\"lift= %f\\n\" % lift)\n",
    "    text_file.write(\"dualtons= %f\\n\" % dualtons)\n"
   ]
  }
 ],
 "metadata": {
  "kernelspec": {
   "display_name": "Python 2",
   "language": "python",
   "name": "python2"
  },
  "language_info": {
   "codemirror_mode": {
    "name": "ipython",
    "version": 2
   },
   "file_extension": ".py",
   "mimetype": "text/x-python",
   "name": "python",
   "nbconvert_exporter": "python",
   "pygments_lexer": "ipython2",
   "version": "2.7.16"
  }
 },
 "nbformat": 4,
 "nbformat_minor": 2
}
